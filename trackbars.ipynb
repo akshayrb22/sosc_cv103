{
 "cells": [
  {
   "cell_type": "markdown",
   "metadata": {},
   "source": [
    "Import the necessary libraries."
   ]
  },
  {
   "cell_type": "code",
   "execution_count": null,
   "metadata": {},
   "outputs": [],
   "source": [
    "import numpy as np\n",
    "import cv2"
   ]
  },
  {
   "cell_type": "markdown",
   "metadata": {},
   "source": [
    "Define a method to pass as an arguement to the trackbar."
   ]
  },
  {
   "cell_type": "code",
   "execution_count": 1,
   "metadata": {},
   "outputs": [],
   "source": [
    "def nothing(x):\n",
    "    pass"
   ]
  },
  {
   "cell_type": "markdown",
   "metadata": {},
   "source": [
    "Create a window in which the video frame will reside. In this same parent window, we will house the trackbars."
   ]
  },
  {
   "cell_type": "code",
   "execution_count": 4,
   "metadata": {},
   "outputs": [],
   "source": [
    "# creating a window to hold the trackbars.\n",
    "cv2.namedWindow('image')\n",
    "\n",
    "# create trackbars for height,width,x and y position for the crop.\n",
    "cv2.createTrackbar('H','image',1,1000,nothing)\n",
    "cv2.createTrackbar('W','image',1,1000,nothing)\n",
    "cv2.createTrackbar('X','image',1,500,nothing)\n",
    "cv2.createTrackbar('Y','image',1,500,nothing)"
   ]
  },
  {
   "cell_type": "markdown",
   "metadata": {},
   "source": [
    "Capture the video and take the values of height, width, x and y using the trackbars. Then using these values, we can crop images just like in the previous workshop. \n",
    "<br>Also, let's put a frame on the original image to indicate the cropped region we will be seeing in the output frame.\n",
    "<br>Finally, let's show the cropped frame."
   ]
  },
  {
   "cell_type": "code",
   "execution_count": 5,
   "metadata": {},
   "outputs": [],
   "source": [
    "cap = cv2.VideoCapture(0)\n",
    "while(True):\n",
    "    # Capture frame-by-frame\n",
    "    ret, image = cap.read()\n",
    "\n",
    "    # get current positions of four trackbars\n",
    "    h = cv2.getTrackbarPos('H','image') # here 'image' is the named window we declared earlier. \n",
    "    w = cv2.getTrackbarPos('W','image') # here 'image' is the named window we declared earlier.\n",
    "    x = cv2.getTrackbarPos('X','image') # here 'image' is the named window we declared earlier.\n",
    "    y = cv2.getTrackbarPos('Y','image') # here 'image' is the named window we declared earlier.\n",
    "\n",
    "    # using the values got from the trackbars to crop the frame.\n",
    "    crop_image = image[y:y+h, x:x+w] # we have seen cropping a image in the previous workshop \n",
    "\n",
    "    #drawing a rectangle to identify the cropped portion in the orginal frame.\n",
    "    frame = cv2.rectangle(image, (x,y), (x+w,y+h), (0,255,0), 5)\n",
    "\n",
    "    # displaying the original frame.\n",
    "    cv2.imshow(\"Original frame\", frame)\n",
    "\n",
    "    # displaying the cropped frame.\n",
    "    cv2.imshow(\"Cropped frame\", crop_image)\n",
    "\n",
    "    if cv2.waitKey(1) & 0xFF == ord('q'):\n",
    "        break\n",
    "\n",
    "# When everything done, release the capture.\n",
    "cap.release()\n",
    "cv2.destroyAllWindows()"
   ]
  },
  {
   "cell_type": "markdown",
   "metadata": {},
   "source": [
    "Now, let's try and do the same for an image."
   ]
  },
  {
   "cell_type": "code",
   "execution_count": null,
   "metadata": {},
   "outputs": [],
   "source": []
  }
 ],
 "metadata": {
  "kernelspec": {
   "display_name": "Python 3",
   "language": "python",
   "name": "python3"
  },
  "language_info": {
   "codemirror_mode": {
    "name": "ipython",
    "version": 3
   },
   "file_extension": ".py",
   "mimetype": "text/x-python",
   "name": "python",
   "nbconvert_exporter": "python",
   "pygments_lexer": "ipython3",
   "version": "3.6.3"
  }
 },
 "nbformat": 4,
 "nbformat_minor": 2
}
