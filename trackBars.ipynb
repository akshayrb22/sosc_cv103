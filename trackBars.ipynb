{
 "cells": [
  {
   "cell_type": "code",
   "execution_count": 10,
   "metadata": {},
   "outputs": [],
   "source": [
    "import numpy as np\n",
    "import cv2\n",
    "\n",
    "def nothing(x):\n",
    "    pass\n",
    "\n",
    "cap = cv2.VideoCapture(0)"
   ]
  },
  {
   "cell_type": "code",
   "execution_count": 11,
   "metadata": {},
   "outputs": [
    {
     "ename": "NameError",
     "evalue": "name 'CV_WINDOW_AUTOSIZE' is not defined",
     "output_type": "error",
     "traceback": [
      "\u001b[1;31m---------------------------------------------------------------------------\u001b[0m",
      "\u001b[1;31mNameError\u001b[0m                                 Traceback (most recent call last)",
      "\u001b[1;32m<ipython-input-11-9f14bcbd049a>\u001b[0m in \u001b[0;36m<module>\u001b[1;34m()\u001b[0m\n\u001b[0;32m      1\u001b[0m \u001b[1;31m# creating a window to hold the trackbars.\u001b[0m\u001b[1;33m\u001b[0m\u001b[1;33m\u001b[0m\u001b[0m\n\u001b[1;32m----> 2\u001b[1;33m \u001b[0mcv2\u001b[0m\u001b[1;33m.\u001b[0m\u001b[0mnamedWindow\u001b[0m\u001b[1;33m(\u001b[0m\u001b[1;34m'image'\u001b[0m\u001b[1;33m,\u001b[0m\u001b[0mflags\u001b[0m\u001b[1;33m=\u001b[0m\u001b[0mCV_WINDOW_AUTOSIZE\u001b[0m\u001b[1;33m)\u001b[0m\u001b[1;33m\u001b[0m\u001b[0m\n\u001b[0m\u001b[0;32m      3\u001b[0m \u001b[1;33m\u001b[0m\u001b[0m\n\u001b[0;32m      4\u001b[0m \u001b[1;31m# create trackbars for height,width,x and y position for the crop.\u001b[0m\u001b[1;33m\u001b[0m\u001b[1;33m\u001b[0m\u001b[0m\n\u001b[0;32m      5\u001b[0m \u001b[0mcv2\u001b[0m\u001b[1;33m.\u001b[0m\u001b[0mcreateTrackbar\u001b[0m\u001b[1;33m(\u001b[0m\u001b[1;34m'H'\u001b[0m\u001b[1;33m,\u001b[0m\u001b[1;34m'image'\u001b[0m\u001b[1;33m,\u001b[0m\u001b[1;36m1\u001b[0m\u001b[1;33m,\u001b[0m\u001b[1;36m1000\u001b[0m\u001b[1;33m,\u001b[0m\u001b[0mnothing\u001b[0m\u001b[1;33m)\u001b[0m\u001b[1;33m\u001b[0m\u001b[0m\n",
      "\u001b[1;31mNameError\u001b[0m: name 'CV_WINDOW_AUTOSIZE' is not defined"
     ]
    }
   ],
   "source": [
    "# creating a window to hold the trackbars.\n",
    "cv2.namedWindow('image')\n",
    "\n",
    "# create trackbars for height,width,x and y position for the crop.\n",
    "cv2.createTrackbar('H','image',1,1000,nothing)\n",
    "cv2.createTrackbar('W','image',1,1000,nothing)\n",
    "cv2.createTrackbar('X','image',1,500,nothing)\n",
    "cv2.createTrackbar('Y','image',1,500,nothing)"
   ]
  },
  {
   "cell_type": "code",
   "execution_count": 4,
   "metadata": {},
   "outputs": [],
   "source": [
    "while(True):\n",
    "    # Capture frame-by-frame\n",
    "    ret, image = cap.read()\n",
    "\n",
    "    # get current positions of four trackbars\n",
    "    h = cv2.getTrackbarPos('H','image') # here 'image' is the named window we declared earlier. \n",
    "    w = cv2.getTrackbarPos('W','image') # here 'image' is the named window we declared earlier.\n",
    "    x = cv2.getTrackbarPos('X','image') # here 'image' is the named window we declared earlier.\n",
    "    y = cv2.getTrackbarPos('Y','image') # here 'image' is the named window we declared earlier.\n",
    "\n",
    "    # using the values got from the trackbars to crop the frame.\n",
    "    crop_image = image[y:y+h, x:x+w] # we have seen cropiing a image in the previous workshop \n",
    "\n",
    "    #drawing a rectangle to identify the cropped portion in the orginal frame.\n",
    "    frame = cv2.rectangle(image, (x,y), (x+w,y+h), (0,255,0), 5)\n",
    "\n",
    "    # displaying the original frame.\n",
    "    cv2.imshow(\"Original frame\", frame)\n",
    "\n",
    "    # displaying the cropped frame.\n",
    "    cv2.imshow(\"Cropped frame\", crop_image)\n",
    "\n",
    "    if cv2.waitKey(1) & 0xFF == ord('q'):\n",
    "        break\n",
    "\n",
    "# When everything done, release the capture.\n",
    "cap.release()\n",
    "cv2.destroyAllWindows()"
   ]
  },
  {
   "cell_type": "code",
   "execution_count": null,
   "metadata": {},
   "outputs": [],
   "source": []
  }
 ],
 "metadata": {
  "kernelspec": {
   "display_name": "Python 3",
   "language": "python",
   "name": "python3"
  },
  "language_info": {
   "codemirror_mode": {
    "name": "ipython",
    "version": 3
   },
   "file_extension": ".py",
   "mimetype": "text/x-python",
   "name": "python",
   "nbconvert_exporter": "python",
   "pygments_lexer": "ipython3",
   "version": "3.6.4"
  }
 },
 "nbformat": 4,
 "nbformat_minor": 2
}
